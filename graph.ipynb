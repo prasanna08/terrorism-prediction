{
 "cells": [
  {
   "cell_type": "code",
   "execution_count": 2,
   "metadata": {},
   "outputs": [],
   "source": [
    "import pandas as pd\n",
    "import numpy as np\n",
    "from scipy import sparse\n",
    "import matplotlib.pyplot as plt\n",
    "import networkx as nx"
   ]
  },
  {
   "cell_type": "markdown",
   "metadata": {},
   "source": [
    "# Functions"
   ]
  },
  {
   "cell_type": "code",
   "execution_count": 3,
   "metadata": {},
   "outputs": [],
   "source": [
    "def data_read():\n",
    "    data=pd.read_csv(\"../data/names_of_perpetrators.csv\")\n",
    "    terror_plot=data['terror_plot']\n",
    "    state_charged=data['state_charged']\n",
    "    last_residency_state=data['last_residency_state']\n",
    "    #data.head()\n",
    "    plots=pd.read_csv(\"../data/terror_plots.csv\")\n",
    "    t_plot=plots['name']\n",
    "    #plots.head()\n",
    "    return terror_plot,t_plot,state_charged,last_residency_state"
   ]
  },
  {
   "cell_type": "code",
   "execution_count": 4,
   "metadata": {},
   "outputs": [],
   "source": [
    "def hypergraph(terror_plot,t_plot,state_charged,last_residency_state):\n",
    "    H1=[[0.0]*(len(terror_plot)) for i in range(len(t_plot))]\n",
    "    for i in range(len(t_plot)):\n",
    "        for j in range(len(terror_plot)):\n",
    "            if(t_plot[i]==terror_plot[j]):\n",
    "                H1[i][j]=1\n",
    "    #print(H[1])\n",
    "    H1=np.transpose(H1)\n",
    "    H2=[[0.0]*(len(state_charged)) for i in range(len(state_charged))]\n",
    "    for i in range(len(H2)):\n",
    "        for j in range(len(H2)):\n",
    "            if(i!=j and state_charged[i]==state_charged[j]):\n",
    "                H2[i][j]=1\n",
    "    H3=[[0.0]*(len(last_residency_state)) for i in range(len(last_residency_state))]\n",
    "    for i in range(len(H3)):\n",
    "        for j in range(len(H3)):\n",
    "            if(i!=j and last_residency_state[i]==last_residency_state[j]):\n",
    "                H3[i][j]=1\n",
    "    H2=np.array(H2)\n",
    "    H3=np.array(H3)\n",
    "    #print(H1.shape)\n",
    "    #print(H2.shape)\n",
    "    #print(H3.shape)\n",
    "    H=np.hstack((H1,H2,H3))\n",
    "    S = sparse.csr_matrix(H) \n",
    "    Hn=S.todense()\n",
    "    adjacency=np.matmul(Hn,np.transpose(Hn))\n",
    "    \n",
    "    return Hn,adjacency\n"
   ]
  },
  {
   "cell_type": "code",
   "execution_count": 5,
   "metadata": {},
   "outputs": [],
   "source": [
    "def deconv(adjacency):\n",
    "    adjacency[adjacency>1]=1\n",
    "    #Network Deconvolution\n",
    "    H_deconv=np.matmul(adjacency,np.linalg.inv(np.identity(len(adjacency))+adjacency))\n",
    "    return H_deconv"
   ]
  },
  {
   "cell_type": "code",
   "execution_count": 6,
   "metadata": {},
   "outputs": [],
   "source": [
    "def show_graph(adjacency_matrix):\n",
    "    rows, cols = np.where(adjacency_matrix > 0)\n",
    "    edges = zip(rows.tolist(), cols.tolist())\n",
    "    gr = nx.Graph()\n",
    "    gr.add_edges_from(edges)\n",
    "    nx.draw(gr, node_size=20)\n",
    "    plt.show()\n"
   ]
  },
  {
   "cell_type": "markdown",
   "metadata": {},
   "source": [
    "# Main"
   ]
  },
  {
   "cell_type": "code",
   "execution_count": 13,
   "metadata": {},
   "outputs": [],
   "source": [
    "terror_plot,t_plot,state_charged,last_residency_state=data_read()"
   ]
  },
  {
   "cell_type": "code",
   "execution_count": 14,
   "metadata": {},
   "outputs": [],
   "source": [
    "Hn,adjacency=hypergraph(terror_plot,t_plot,state_charged,last_residency_state)"
   ]
  },
  {
   "cell_type": "code",
   "execution_count": 15,
   "metadata": {
    "scrolled": true
   },
   "outputs": [
    {
     "data": {
      "text/plain": [
       "'tmp=np.transpose(H)\\nprint(H[51])'"
      ]
     },
     "execution_count": 15,
     "metadata": {},
     "output_type": "execute_result"
    }
   ],
   "source": [
    "\"\"\"tmp=np.transpose(H)\n",
    "print(H[51])\"\"\""
   ]
  },
  {
   "cell_type": "code",
   "execution_count": 16,
   "metadata": {},
   "outputs": [],
   "source": [
    "adjacency=np.array(adjacency)"
   ]
  },
  {
   "cell_type": "code",
   "execution_count": 17,
   "metadata": {},
   "outputs": [
    {
     "data": {
      "text/plain": [
       "array([[39.,  0., 37., ...,  0., 37.,  0.],\n",
       "       [ 0.,  9.,  0., ...,  0.,  0.,  0.],\n",
       "       [37.,  0., 78., ...,  0., 75.,  0.],\n",
       "       ...,\n",
       "       [ 0.,  0.,  0., ..., 75.,  0.,  0.],\n",
       "       [37.,  0., 75., ...,  0., 78.,  0.],\n",
       "       [ 0.,  0.,  0., ...,  0.,  0., 58.]])"
      ]
     },
     "execution_count": 17,
     "metadata": {},
     "output_type": "execute_result"
    }
   ],
   "source": [
    "adjacency"
   ]
  },
  {
   "cell_type": "code",
   "execution_count": 18,
   "metadata": {},
   "outputs": [],
   "source": [
    "H_deconv=deconv(adjacency)"
   ]
  },
  {
   "cell_type": "code",
   "execution_count": 19,
   "metadata": {},
   "outputs": [
    {
     "data": {
      "text/plain": [
       "array([[ 1.71397805e-01,  0.00000000e+00, -1.05261746e-02, ...,\n",
       "        -1.82768099e-05, -1.05261746e-02, -7.76964909e-03],\n",
       "       [ 0.00000000e+00,  3.00000000e+00,  0.00000000e+00, ...,\n",
       "         0.00000000e+00,  0.00000000e+00,  0.00000000e+00],\n",
       "       [-1.05261746e-02,  0.00000000e+00,  2.94373972e-02, ...,\n",
       "        -1.42834805e-06,  2.94373972e-02, -6.07204603e-04],\n",
       "       ...,\n",
       "       [-1.82768099e-05,  0.00000000e+00, -1.42834805e-06, ...,\n",
       "         5.90222086e-02, -1.42834805e-06, -4.42431709e-02],\n",
       "       [-1.05261746e-02,  0.00000000e+00,  2.94373972e-02, ...,\n",
       "        -1.42834805e-06,  2.94373972e-02, -6.07204603e-04],\n",
       "       [-7.76964909e-03,  0.00000000e+00, -6.07204603e-04, ...,\n",
       "        -4.42431709e-02, -6.07204603e-04, -1.79071349e+01]])"
      ]
     },
     "execution_count": 19,
     "metadata": {},
     "output_type": "execute_result"
    }
   ],
   "source": [
    "H_deconv"
   ]
  },
  {
   "cell_type": "code",
   "execution_count": 20,
   "metadata": {},
   "outputs": [],
   "source": [
    "#H_deconv"
   ]
  },
  {
   "cell_type": "code",
   "execution_count": 21,
   "metadata": {},
   "outputs": [
    {
     "name": "stderr",
     "output_type": "stream",
     "text": [
      "C:\\Users\\Anup-Patel\\Anaconda3\\lib\\site-packages\\networkx\\drawing\\nx_pylab.py:579: MatplotlibDeprecationWarning: \n",
      "The iterable function was deprecated in Matplotlib 3.1 and will be removed in 3.3. Use np.iterable instead.\n",
      "  if not cb.iterable(width):\n"
     ]
    },
    {
     "data": {
      "image/png": "[encoded data removed]",
      "text/plain": [
       "<Figure size 432x288 with 1 Axes>"
      ]
     },
     "metadata": {},
     "output_type": "display_data"
    }
   ],
   "source": [
    "#Plot graph\n",
    "show_graph(H_deconv)"
   ]
  },
  {
   "cell_type": "code",
   "execution_count": 22,
   "metadata": {},
   "outputs": [
    {
     "data": {
      "image/png": "[encoded data removed]",
      "text/plain": [
       "<Figure size 432x288 with 1 Axes>"
      ]
     },
     "metadata": {},
     "output_type": "display_data"
    }
   ],
   "source": [
    "show_graph(adjacency)"
   ]
  },
  {
   "cell_type": "code",
   "execution_count": null,
   "metadata": {},
   "outputs": [],
   "source": []
  }
 ],
 "metadata": {
  "kernelspec": {
   "display_name": "Python 3",
   "language": "python",
   "name": "python3"
  },
  "language_info": {
   "codemirror_mode": {
    "name": "ipython",
    "version": 3
   },
   "file_extension": ".py",
   "mimetype": "text/x-python",
   "name": "python",
   "nbconvert_exporter": "python",
   "pygments_lexer": "ipython3",
   "version": "3.7.4"
  }
 },
 "nbformat": 4,
 "nbformat_minor": 2
}
